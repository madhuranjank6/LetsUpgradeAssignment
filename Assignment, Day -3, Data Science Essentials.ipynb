{
 "cells": [
  {
   "cell_type": "markdown",
   "metadata": {},
   "source": [
    "<center><h1>ASSIGNMET, DAY-3, DATA SCIENCE ESENTIALS</h1></center>\n",
    "<center><h1>--------------------------------------------------------------------</h1></center>"
   ]
  },
  {
   "cell_type": "code",
   "execution_count": 1,
   "metadata": {},
   "outputs": [],
   "source": [
    "import numpy as np"
   ]
  },
  {
   "cell_type": "markdown",
   "metadata": {},
   "source": [
    "<b>Questions 1:\n",
    "Create a numpy array starting from 2 till 50 with a stepsize of 3.</b>"
   ]
  },
  {
   "cell_type": "code",
   "execution_count": 2,
   "metadata": {},
   "outputs": [],
   "source": [
    "arr = np.arange(2,51,3)"
   ]
  },
  {
   "cell_type": "code",
   "execution_count": 3,
   "metadata": {},
   "outputs": [
    {
     "name": "stdout",
     "output_type": "stream",
     "text": [
      "[ 2  5  8 11 14 17 20 23 26 29 32 35 38 41 44 47 50]\n"
     ]
    }
   ],
   "source": [
    "print(arr)"
   ]
  },
  {
   "cell_type": "markdown",
   "metadata": {},
   "source": [
    "<b>Questions 2:\n",
    "Accept two lists of 5 elements each from the user.\n",
    "Convert them to numpy arrays. Concatenate these arrays and print it. Also sort these arrays and print it.</b>"
   ]
  },
  {
   "cell_type": "code",
   "execution_count": 4,
   "metadata": {
    "scrolled": true
   },
   "outputs": [
    {
     "name": "stdout",
     "output_type": "stream",
     "text": [
      "Enter the elements of 1st List: \n",
      "4\n",
      "7\n",
      "8\n",
      "5\n",
      "1\n",
      "Enter the elements of 2nd List: \n",
      "2\n",
      "4\n",
      "7\n",
      "5\n",
      "6\n",
      "1st List =  [4, 7, 8, 5, 1]\n",
      "2nd List =  [2, 4, 7, 5, 6]\n",
      "1st Array =  [4 7 8 5 1]\n",
      "2nd Array =  [2 4 7 5 6]\n",
      "Concateneted array =  [4 7 8 5 1 2 4 7 5 6]\n",
      "Sorted 1st Array =  [1 4 5 7 8]\n",
      "sorted 2nd Array =  [2 4 5 6 7]\n",
      "sorted concatenated array =  [1 2 4 4 5 5 6 7 7 8]\n"
     ]
    }
   ],
   "source": [
    "list_1 = []\n",
    "\n",
    "print(\"Enter the elements of 1st List: \")\n",
    "for i in range(1,6):\n",
    "    e = int(input())\n",
    "    list_1.append(e)\n",
    "\n",
    "print(\"Enter the elements of 2nd List: \")\n",
    "list_2 = []\n",
    "for j in range(1,6):\n",
    "    f = int(input())\n",
    "    list_2.append(f)\n",
    "print(\"1st List = \",list_1)\n",
    "print(\"2nd List = \",list_2)\n",
    "arr1 = np.array(list_1)\n",
    "print(\"1st Array = \",arr1)\n",
    "arr2 = np.array(list_2)\n",
    "print(\"2nd Array = \",arr2)\n",
    "arr3 = np.concatenate((arr1,arr2))\n",
    "print(\"Concateneted array = \",arr3)\n",
    "s_arr1 = print(\"Sorted 1st Array = \",np.sort(arr1))\n",
    "s_arr2 = print(\"sorted 2nd Array = \",np.sort(arr2))\n",
    "s_arr3 = print(\"sorted concatenated array = \",np.sort(arr3))"
   ]
  },
  {
   "cell_type": "markdown",
   "metadata": {},
   "source": [
    "<b>Questions 3:\n",
    "Write a code snippet to find the dimensions of a ndarray and its size.</b>"
   ]
  },
  {
   "cell_type": "code",
   "execution_count": 5,
   "metadata": {},
   "outputs": [
    {
     "name": "stdout",
     "output_type": "stream",
     "text": [
      "1D Array: \n",
      "[0 1 2 3 4]\n",
      "Dimension =  1\n",
      "Size =  5\n",
      "\n",
      "2D Array: \n",
      "[[ 0  1  2  3]\n",
      " [ 4  5  6  7]\n",
      " [ 8  9 10 11]\n",
      " [12 13 14 15]]\n",
      "Dimension =  2\n",
      "Size =  16\n",
      "\n",
      "3D Array: \n",
      "[[[ 0  1  2  3]\n",
      "  [ 4  5  6  7]\n",
      "  [ 8  9 10 11]]\n",
      "\n",
      " [[12 13 14 15]\n",
      "  [16 17 18 19]\n",
      "  [20 21 22 23]]]\n",
      "Dimension =  3\n",
      "Size =  24\n",
      "\n"
     ]
    }
   ],
   "source": [
    "print(\"1D Array: \")\n",
    "arr_1d = np.arange(5)\n",
    "print(arr_1d)\n",
    "print(\"Dimension = \",arr_1d.ndim) # ndim is the code snipppet used to find the dimension of a ndarray array\n",
    "print(\"Size = \",arr_1d.size) # size is the code snippet used to find the size of ndarray\n",
    "print()\n",
    "\n",
    "print(\"2D Array: \")\n",
    "arr_2d = np.arange(16).reshape((4, 4))\n",
    "print(arr_2d)\n",
    "print(\"Dimension = \",arr_2d.ndim) # ndim is the code snipppet used to find the dimension of a ndarray array\n",
    "print(\"Size = \",arr_2d.size) # size is the code snippet used to find the size of ndarray\n",
    "print()\n",
    "\n",
    "print(\"3D Array: \")\n",
    "arr_3d = np.arange(24).reshape((2, 3, 4))\n",
    "print(arr_3d)\n",
    "print(\"Dimension = \",arr_3d.ndim) # ndim is the code snipppet used to find the dimension of a ndarray array\n",
    "print(\"Size = \",arr_3d.size) # size is the code snippet used to find the size of ndarray\n",
    "print()"
   ]
  },
  {
   "cell_type": "markdown",
   "metadata": {},
   "source": [
    "<b>Questions 4:\n",
    "\n",
    "How to convert a 1D array into a 2D array? Demonstrate with the help of a code snippet</b>"
   ]
  },
  {
   "cell_type": "code",
   "execution_count": 6,
   "metadata": {},
   "outputs": [
    {
     "name": "stdout",
     "output_type": "stream",
     "text": [
      "1D Array :\n",
      "[0 1 2 3 4 5 6 7 8 9]\n",
      "\n",
      "2D Array : \n",
      "[[0 1 2 3 4]\n",
      " [5 6 7 8 9]]\n"
     ]
    }
   ],
   "source": [
    "arr = np.array([0, 1, 2, 3, 4, 5, 6, 7, 8, 9])\n",
    "print(\"1D Array :\")\n",
    "print(arr)\n",
    "print()\n",
    "\n",
    "# Converting 1D array to a 2D numpy array of 2 rows and 3 columns\n",
    "arr_2d = np.reshape(arr, (2, 5))\n",
    "print(\"2D Array : \")\n",
    "print(arr_2d)"
   ]
  },
  {
   "cell_type": "code",
   "execution_count": 7,
   "metadata": {},
   "outputs": [
    {
     "ename": "ValueError",
     "evalue": "cannot reshape array of size 10 into shape (2,3)",
     "output_type": "error",
     "traceback": [
      "\u001b[1;31m---------------------------------------------------------------------------\u001b[0m",
      "\u001b[1;31mValueError\u001b[0m                                Traceback (most recent call last)",
      "\u001b[1;32m<ipython-input-7-494e8b993acc>\u001b[0m in \u001b[0;36m<module>\u001b[1;34m\u001b[0m\n\u001b[0;32m      1\u001b[0m \u001b[1;31m# Converting 1D array to a 2D numpy array of incompatible shape will cause error\u001b[0m\u001b[1;33m\u001b[0m\u001b[1;33m\u001b[0m\u001b[1;33m\u001b[0m\u001b[0m\n\u001b[1;32m----> 2\u001b[1;33m \u001b[0marr_2d\u001b[0m \u001b[1;33m=\u001b[0m \u001b[0mnp\u001b[0m\u001b[1;33m.\u001b[0m\u001b[0mreshape\u001b[0m\u001b[1;33m(\u001b[0m\u001b[0marr\u001b[0m\u001b[1;33m,\u001b[0m \u001b[1;33m(\u001b[0m\u001b[1;36m2\u001b[0m\u001b[1;33m,\u001b[0m \u001b[1;36m3\u001b[0m\u001b[1;33m)\u001b[0m\u001b[1;33m)\u001b[0m\u001b[1;33m\u001b[0m\u001b[1;33m\u001b[0m\u001b[0m\n\u001b[0m",
      "\u001b[1;32m<__array_function__ internals>\u001b[0m in \u001b[0;36mreshape\u001b[1;34m(*args, **kwargs)\u001b[0m\n",
      "\u001b[1;32m~\\anaconda3\\lib\\site-packages\\numpy\\core\\fromnumeric.py\u001b[0m in \u001b[0;36mreshape\u001b[1;34m(a, newshape, order)\u001b[0m\n\u001b[0;32m    299\u001b[0m            [5, 6]])\n\u001b[0;32m    300\u001b[0m     \"\"\"\n\u001b[1;32m--> 301\u001b[1;33m     \u001b[1;32mreturn\u001b[0m \u001b[0m_wrapfunc\u001b[0m\u001b[1;33m(\u001b[0m\u001b[0ma\u001b[0m\u001b[1;33m,\u001b[0m \u001b[1;34m'reshape'\u001b[0m\u001b[1;33m,\u001b[0m \u001b[0mnewshape\u001b[0m\u001b[1;33m,\u001b[0m \u001b[0morder\u001b[0m\u001b[1;33m=\u001b[0m\u001b[0morder\u001b[0m\u001b[1;33m)\u001b[0m\u001b[1;33m\u001b[0m\u001b[1;33m\u001b[0m\u001b[0m\n\u001b[0m\u001b[0;32m    302\u001b[0m \u001b[1;33m\u001b[0m\u001b[0m\n\u001b[0;32m    303\u001b[0m \u001b[1;33m\u001b[0m\u001b[0m\n",
      "\u001b[1;32m~\\anaconda3\\lib\\site-packages\\numpy\\core\\fromnumeric.py\u001b[0m in \u001b[0;36m_wrapfunc\u001b[1;34m(obj, method, *args, **kwds)\u001b[0m\n\u001b[0;32m     59\u001b[0m \u001b[1;33m\u001b[0m\u001b[0m\n\u001b[0;32m     60\u001b[0m     \u001b[1;32mtry\u001b[0m\u001b[1;33m:\u001b[0m\u001b[1;33m\u001b[0m\u001b[1;33m\u001b[0m\u001b[0m\n\u001b[1;32m---> 61\u001b[1;33m         \u001b[1;32mreturn\u001b[0m \u001b[0mbound\u001b[0m\u001b[1;33m(\u001b[0m\u001b[1;33m*\u001b[0m\u001b[0margs\u001b[0m\u001b[1;33m,\u001b[0m \u001b[1;33m**\u001b[0m\u001b[0mkwds\u001b[0m\u001b[1;33m)\u001b[0m\u001b[1;33m\u001b[0m\u001b[1;33m\u001b[0m\u001b[0m\n\u001b[0m\u001b[0;32m     62\u001b[0m     \u001b[1;32mexcept\u001b[0m \u001b[0mTypeError\u001b[0m\u001b[1;33m:\u001b[0m\u001b[1;33m\u001b[0m\u001b[1;33m\u001b[0m\u001b[0m\n\u001b[0;32m     63\u001b[0m         \u001b[1;31m# A TypeError occurs if the object does have such a method in its\u001b[0m\u001b[1;33m\u001b[0m\u001b[1;33m\u001b[0m\u001b[1;33m\u001b[0m\u001b[0m\n",
      "\u001b[1;31mValueError\u001b[0m: cannot reshape array of size 10 into shape (2,3)"
     ]
    }
   ],
   "source": [
    "# Converting 1D array to a 2D numpy array of incompatible shape will cause error\n",
    "arr_2d = np.reshape(arr, (2, 3))"
   ]
  },
  {
   "cell_type": "markdown",
   "metadata": {},
   "source": [
    "<b>Questions 5:\n",
    "Consider two square numpy arrays. Stack them vertically and horizontally.\n",
    "Hint: Use vstack(), hstack()</b>"
   ]
  },
  {
   "cell_type": "code",
   "execution_count": 8,
   "metadata": {},
   "outputs": [
    {
     "name": "stdout",
     "output_type": "stream",
     "text": [
      "Vertically Stacked : \n",
      "[[ 0  1  2  3]\n",
      " [ 4  5  6  7]\n",
      " [ 8  9 10 11]\n",
      " [12 13 14 15]\n",
      " [ 0  1  2  3]\n",
      " [ 4  5  6  7]\n",
      " [ 8  9 10 11]\n",
      " [12 13 14 15]]\n",
      "\n",
      "Horizontally Stacked : \n",
      "[[ 0  1  2  3  0  1  2  3]\n",
      " [ 4  5  6  7  4  5  6  7]\n",
      " [ 8  9 10 11  8  9 10 11]\n",
      " [12 13 14 15 12 13 14 15]]\n"
     ]
    }
   ],
   "source": [
    "arr1 = np.arange(16).reshape(4,4)\n",
    "arr2 = np.arange(16).reshape(4,4)\n",
    "V_Stack = np.vstack((arr1,arr2))\n",
    "H_Stack = np.hstack((arr1,arr2))\n",
    "print(\"Vertically Stacked : \")\n",
    "print(V_Stack)\n",
    "print()\n",
    "print(\"Horizontally Stacked : \")\n",
    "print(H_Stack)"
   ]
  },
  {
   "cell_type": "markdown",
   "metadata": {},
   "source": [
    "<b>Questions 6:\n",
    "How to get unique items and counts of unique items?</b>"
   ]
  },
  {
   "cell_type": "markdown",
   "metadata": {},
   "source": [
    "We can find the unique elements and their count in numpy by using 'numpy.unique()' function and passing 1st argument as the given array and setting the retutn_counts value to True. Below is example of this"
   ]
  },
  {
   "cell_type": "code",
   "execution_count": 9,
   "metadata": {},
   "outputs": [
    {
     "name": "stdout",
     "output_type": "stream",
     "text": [
      "[1 2 3 4] [3 1 1 2]\n"
     ]
    }
   ],
   "source": [
    "number_list = np.array([1, 1, 2, 3, 4, 4, 1])\n",
    "\n",
    "(unique, counts) = np.unique(number_list, return_counts=True)\n",
    "print(unique,counts)"
   ]
  },
  {
   "cell_type": "code",
   "execution_count": null,
   "metadata": {},
   "outputs": [],
   "source": []
  }
 ],
 "metadata": {
  "kernelspec": {
   "display_name": "Python 3",
   "language": "python",
   "name": "python3"
  },
  "language_info": {
   "codemirror_mode": {
    "name": "ipython",
    "version": 3
   },
   "file_extension": ".py",
   "mimetype": "text/x-python",
   "name": "python",
   "nbconvert_exporter": "python",
   "pygments_lexer": "ipython3",
   "version": "3.8.3"
  }
 },
 "nbformat": 4,
 "nbformat_minor": 4
}
